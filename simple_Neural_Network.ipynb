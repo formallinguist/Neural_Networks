{
  "nbformat": 4,
  "nbformat_minor": 0,
  "metadata": {
    "colab": {
      "provenance": []
    },
    "kernelspec": {
      "name": "python3",
      "display_name": "Python 3"
    },
    "language_info": {
      "name": "python"
    }
  },
  "cells": [
    {
      "cell_type": "code",
      "execution_count": 1,
      "metadata": {
        "id": "UOcwunCTU_ww"
      },
      "outputs": [],
      "source": [
        "import numpy as np"
      ]
    },
    {
      "cell_type": "code",
      "source": [
        "eg_input = [1,.2,.1,.05,.2]\n",
        "eg_weights = [.2,.12,.4,.6,.90]"
      ],
      "metadata": {
        "id": "0quTl5GcVkSe"
      },
      "execution_count": 2,
      "outputs": []
    },
    {
      "cell_type": "code",
      "source": [
        "input_vector = np.array(eg_input)\n",
        "weights = np.array(eg_weights)\n",
        "bias_weight = .2"
      ],
      "metadata": {
        "id": "OQBsM7w8V2tO"
      },
      "execution_count": 3,
      "outputs": []
    },
    {
      "cell_type": "code",
      "source": [
        "activation_level = np.dot(input_vector,weights) + (bias_weight * 1)\n",
        "print(activation_level)"
      ],
      "metadata": {
        "colab": {
          "base_uri": "https://localhost:8080/"
        },
        "id": "0jGmOxm2WUW2",
        "outputId": "eeea70c5-48f3-48bc-c21e-3d28983e792d"
      },
      "execution_count": 4,
      "outputs": [
        {
          "output_type": "stream",
          "name": "stdout",
          "text": [
            "0.6740000000000002\n"
          ]
        }
      ]
    },
    {
      "cell_type": "code",
      "source": [
        "#using a threshold function.\n",
        "threshold = 0.5\n",
        "if activation_level >= threshold:\n",
        "  perceptron_output = 1\n",
        "else:\n",
        "  perceptron_output = 0\n",
        "\n",
        "print(perceptron_output)"
      ],
      "metadata": {
        "colab": {
          "base_uri": "https://localhost:8080/"
        },
        "id": "zQCEx3lIWnnw",
        "outputId": "c873ba21-abbc-4fed-d75e-98cc14235eea"
      },
      "execution_count": 5,
      "outputs": [
        {
          "output_type": "stream",
          "name": "stdout",
          "text": [
            "1\n"
          ]
        }
      ]
    }
  ]
}